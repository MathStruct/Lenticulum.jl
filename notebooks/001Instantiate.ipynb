{
 "cells": [
  {
   "cell_type": "markdown",
   "id": "f489ead7",
   "metadata": {},
   "source": [
    "Instantiate the environment and add to Project.toml whatever dependency is needed."
   ]
  },
  {
   "cell_type": "code",
   "execution_count": 1,
   "id": "3bea9349",
   "metadata": {},
   "outputs": [],
   "source": [
    "using Pkg"
   ]
  },
  {
   "cell_type": "code",
   "execution_count": null,
   "id": "419f9abc",
   "metadata": {},
   "outputs": [],
   "source": []
  }
 ],
 "metadata": {
  "kernelspec": {
   "display_name": "Julia 1.11.6",
   "language": "julia",
   "name": "julia-1.11"
  },
  "language_info": {
   "file_extension": ".jl",
   "mimetype": "application/julia",
   "name": "julia",
   "version": "1.11.6"
  }
 },
 "nbformat": 4,
 "nbformat_minor": 5
}
